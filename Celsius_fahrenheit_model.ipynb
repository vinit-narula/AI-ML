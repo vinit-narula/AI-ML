{
  "nbformat": 4,
  "nbformat_minor": 0,
  "metadata": {
    "colab": {
      "name": "Celsius-fahrenheit-model",
      "provenance": [],
      "collapsed_sections": [],
      "authorship_tag": "ABX9TyNMqPJsj7Ue+itOAvugJWzQ",
      "include_colab_link": true
    },
    "kernelspec": {
      "name": "python3",
      "display_name": "Python 3"
    },
    "accelerator": "GPU"
  },
  "cells": [
    {
      "cell_type": "markdown",
      "metadata": {
        "id": "view-in-github",
        "colab_type": "text"
      },
      "source": [
        "<a href=\"https://colab.research.google.com/github/vinit-narula/AI-ML/blob/main/Celsius_fahrenheit_model.ipynb\" target=\"_parent\"><img src=\"https://colab.research.google.com/assets/colab-badge.svg\" alt=\"Open In Colab\"/></a>"
      ]
    },
    {
      "cell_type": "markdown",
      "metadata": {
        "id": "95QJS4gR3Zvt"
      },
      "source": [
        "The Basics: Training your first Model"
      ]
    },
    {
      "cell_type": "markdown",
      "metadata": {
        "id": "QCN7Apxz3jR_"
      },
      "source": [
        "Import dependencies\n"
      ]
    },
    {
      "cell_type": "code",
      "metadata": {
        "id": "0BEJlBlm3npE"
      },
      "source": [
        "import tensorflow as tf\n",
        "#tf.logging.set_verbosity(tf.logging.ERROR)\n",
        "\n",
        "import numpy as np\n"
      ],
      "execution_count": null,
      "outputs": []
    },
    {
      "cell_type": "markdown",
      "metadata": {
        "id": "2WjdCCa94-ia"
      },
      "source": [
        "Setting up training data\n"
      ]
    },
    {
      "cell_type": "code",
      "metadata": {
        "id": "g00XkYIT5Cty"
      },
      "source": [
        "celsius_q = np.array([-40, 10, 0, 8, 15, 22, 38], dtype=float)\n",
        "fahrenheit_a = np.array([40, 14, 32, 46, 59, 72, 100], dtype=float)\n",
        "\n",
        "for i,c in enumerate(celsius_q):\n",
        "  print(\"{} degree Celessius = {} degrees Fahrenheit\".format(c, fahrenheit_a[i]))"
      ],
      "execution_count": null,
      "outputs": []
    },
    {
      "cell_type": "markdown",
      "metadata": {
        "id": "6o6AhQSX7lZI"
      },
      "source": [
        "Create a Model\n",
        "\n",
        "Build a Layer"
      ]
    },
    {
      "cell_type": "code",
      "metadata": {
        "id": "F_cytqlQ7opI"
      },
      "source": [
        "l0 = tf.keras.layers.Dense(units=1, input_shape=[1])"
      ],
      "execution_count": null,
      "outputs": []
    },
    {
      "cell_type": "markdown",
      "metadata": {
        "id": "xrygE4-v76aT"
      },
      "source": [
        "Assemble layes into the Model"
      ]
    },
    {
      "cell_type": "code",
      "metadata": {
        "id": "yVZnryLt79g3"
      },
      "source": [
        "model = tf.keras.Sequential([l0])"
      ],
      "execution_count": null,
      "outputs": []
    },
    {
      "cell_type": "markdown",
      "metadata": {
        "id": "XX-oz9TJ80AY"
      },
      "source": [
        "Compile the model with loss function and optimizer function"
      ]
    },
    {
      "cell_type": "code",
      "metadata": {
        "id": "3Dyl174k9o0f"
      },
      "source": [
        "model.compile(loss='mean_squared_error', optimizer=tf.keras.optimizers.Adam(0.01))"
      ],
      "execution_count": null,
      "outputs": []
    },
    {
      "cell_type": "markdown",
      "metadata": {
        "id": "V6h-F12q-Epq"
      },
      "source": [
        "Train the model"
      ]
    },
    {
      "cell_type": "code",
      "metadata": {
        "id": "79tZwL5T-Wk2"
      },
      "source": [
        "history = model.fit(celsius_q, fahrenheit_a, epochs=500, verbose=False)\n",
        "print(\"Finished training the model\")"
      ],
      "execution_count": null,
      "outputs": []
    },
    {
      "cell_type": "markdown",
      "metadata": {
        "id": "l01168WO-r_y"
      },
      "source": [
        "Display training statistics"
      ]
    },
    {
      "cell_type": "code",
      "metadata": {
        "id": "jIdcmRBY-whb"
      },
      "source": [
        "import matplotlib.pyplot as plt\n",
        "plt.xlabel('Epoch Number')\n",
        "plt.ylabel('Loss Magnitude')\n",
        "plt.plot(history.history['loss'])"
      ],
      "execution_count": null,
      "outputs": []
    },
    {
      "cell_type": "markdown",
      "metadata": {
        "id": "uzuPeh-Y_cf2"
      },
      "source": [
        "Use the model to predict values"
      ]
    },
    {
      "cell_type": "code",
      "metadata": {
        "id": "GajKYJ9o_lE0"
      },
      "source": [
        "print(model.predict([100.0]))"
      ],
      "execution_count": null,
      "outputs": []
    },
    {
      "cell_type": "markdown",
      "metadata": {
        "id": "qBGtH3yqA2j8"
      },
      "source": [
        "Looking at the layer weights\n"
      ]
    },
    {
      "cell_type": "code",
      "metadata": {
        "id": "vizrvYIDA6DG"
      },
      "source": [
        "print(\"These are the layers variables: {}\".format(l0.get_weights()))\n",
        "                                                "
      ],
      "execution_count": null,
      "outputs": []
    },
    {
      "cell_type": "code",
      "metadata": {
        "id": "oorMm8_sBgNw"
      },
      "source": [
        "l0 = tf.keras.layers.Dense(units=4, input_shape=[1])\n",
        "l1 = tf.keras.layers.Dense(units=4)\n",
        "l2 = tf.keras.layers.Dense(units=1)\n",
        "model = tf.keras.Sequential([l0, l1, l2])\n",
        "model.compile(loss='mean_squared_error', optimizer=tf.keras.optimizers.Adam(0.1))\n",
        "model.fit(celsius_q, fahrenheit_a, epochs=500, verbose=False)\n",
        "print(\"Finished Training Model\")\n",
        "print(model.predict([100.0]))\n",
        "print(\"Model predicts that 100 degree Celsius is : {} degree Fahrenheit\".format(model.predict([100.0])))\n",
        "print(\"These are l0 variables: {}\".format(l0.get_weights()))\n",
        "print(\"These are l1 variables: {}\".format(l1.get_weights()))\n",
        "print(\"These are l2 variables: {}\".format(l2.get_weights()))"
      ],
      "execution_count": null,
      "outputs": []
    }
  ]
}