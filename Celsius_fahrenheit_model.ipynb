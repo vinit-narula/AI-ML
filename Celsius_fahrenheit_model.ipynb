{
  "nbformat": 4,
  "nbformat_minor": 0,
  "metadata": {
    "colab": {
      "name": "Celsius-fahrenheit-model",
      "provenance": [],
      "collapsed_sections": [],
      "authorship_tag": "ABX9TyOqsNGJXk44RyjHqQZnjCkb",
      "include_colab_link": true
    },
    "kernelspec": {
      "name": "python3",
      "display_name": "Python 3"
    },
    "accelerator": "GPU"
  },
  "cells": [
    {
      "cell_type": "markdown",
      "metadata": {
        "id": "view-in-github",
        "colab_type": "text"
      },
      "source": [
        "<a href=\"https://colab.research.google.com/github/vinit-narula/AI-ML/blob/main/Celsius_fahrenheit_model.ipynb\" target=\"_parent\"><img src=\"https://colab.research.google.com/assets/colab-badge.svg\" alt=\"Open In Colab\"/></a>"
      ]
    },
    {
      "cell_type": "markdown",
      "metadata": {
        "id": "95QJS4gR3Zvt"
      },
      "source": [
        "The Basics: Training your first Model"
      ]
    },
    {
      "cell_type": "markdown",
      "metadata": {
        "id": "QCN7Apxz3jR_"
      },
      "source": [
        "Import dependencies\n"
      ]
    },
    {
      "cell_type": "code",
      "metadata": {
        "id": "0BEJlBlm3npE"
      },
      "source": [
        "import tensorflow as tf\n",
        "#tf.logging.set_verbosity(tf.logging.ERROR)\n",
        "\n",
        "import numpy as np\n"
      ],
      "execution_count": null,
      "outputs": []
    },
    {
      "cell_type": "markdown",
      "metadata": {
        "id": "2WjdCCa94-ia"
      },
      "source": [
        "Setting up training data\n"
      ]
    },
    {
      "cell_type": "code",
      "metadata": {
        "colab": {
          "base_uri": "https://localhost:8080/"
        },
        "id": "g00XkYIT5Cty",
        "outputId": "fafcf507-aeec-4ad4-9962-b183d49acfd9"
      },
      "source": [
        "celsius_q = np.array([-40, 10, 0, 8, 15, 22, 38], dtype=float)\n",
        "fahrenheit_a = np.array([40, 14, 32, 46, 59, 72, 100], dtype=float)\n",
        "\n",
        "for i,c in enumerate(celsius_q):\n",
        "  print(\"{} degree Celessius = {} degrees Fahrenheit\".format(c, fahrenheit_a[i]))"
      ],
      "execution_count": null,
      "outputs": [
        {
          "output_type": "stream",
          "text": [
            "-40.0 degree Celessius = 40.0 degrees Fahrenheit\n",
            "10.0 degree Celessius = 14.0 degrees Fahrenheit\n",
            "0.0 degree Celessius = 32.0 degrees Fahrenheit\n",
            "8.0 degree Celessius = 46.0 degrees Fahrenheit\n",
            "15.0 degree Celessius = 59.0 degrees Fahrenheit\n",
            "22.0 degree Celessius = 72.0 degrees Fahrenheit\n",
            "38.0 degree Celessius = 100.0 degrees Fahrenheit\n"
          ],
          "name": "stdout"
        }
      ]
    },
    {
      "cell_type": "markdown",
      "metadata": {
        "id": "6o6AhQSX7lZI"
      },
      "source": [
        "Create a Model\n",
        "\n",
        "Build a Layer"
      ]
    },
    {
      "cell_type": "code",
      "metadata": {
        "id": "F_cytqlQ7opI"
      },
      "source": [
        "l0 = tf.keras.layers.Dense(units=1, input_shape=[1])"
      ],
      "execution_count": null,
      "outputs": []
    },
    {
      "cell_type": "markdown",
      "metadata": {
        "id": "xrygE4-v76aT"
      },
      "source": [
        "Assemble layes into the Model"
      ]
    },
    {
      "cell_type": "code",
      "metadata": {
        "id": "yVZnryLt79g3"
      },
      "source": [
        "model = tf.keras.Sequential([l0])"
      ],
      "execution_count": null,
      "outputs": []
    },
    {
      "cell_type": "markdown",
      "metadata": {
        "id": "XX-oz9TJ80AY"
      },
      "source": [
        "Compile the model with loss function and optimizer function"
      ]
    },
    {
      "cell_type": "code",
      "metadata": {
        "id": "3Dyl174k9o0f",
        "colab": {
          "base_uri": "https://localhost:8080/",
          "height": 164
        },
        "outputId": "70c335f5-a27c-4192-bf1b-b085178e10f4"
      },
      "source": [
        "model.compile(loss='mean_squared_error', optimizer=tf.keras.optimizers.Adam(0.01))"
      ],
      "execution_count": null,
      "outputs": [
        {
          "output_type": "error",
          "ename": "NameError",
          "evalue": "ignored",
          "traceback": [
            "\u001b[0;31m---------------------------------------------------------------------------\u001b[0m",
            "\u001b[0;31mNameError\u001b[0m                                 Traceback (most recent call last)",
            "\u001b[0;32m<ipython-input-1-538f232c90b3>\u001b[0m in \u001b[0;36m<module>\u001b[0;34m()\u001b[0m\n\u001b[0;32m----> 1\u001b[0;31m \u001b[0mmodel\u001b[0m\u001b[0;34m.\u001b[0m\u001b[0mcompile\u001b[0m\u001b[0;34m(\u001b[0m\u001b[0mloss\u001b[0m\u001b[0;34m=\u001b[0m\u001b[0;34m'mean_squared_error'\u001b[0m\u001b[0;34m,\u001b[0m \u001b[0moptimizer\u001b[0m\u001b[0;34m=\u001b[0m\u001b[0mtf\u001b[0m\u001b[0;34m.\u001b[0m\u001b[0mkeras\u001b[0m\u001b[0;34m.\u001b[0m\u001b[0moptimizers\u001b[0m\u001b[0;34m.\u001b[0m\u001b[0mAdam\u001b[0m\u001b[0;34m(\u001b[0m\u001b[0;36m0.01\u001b[0m\u001b[0;34m)\u001b[0m\u001b[0;34m)\u001b[0m\u001b[0;34m\u001b[0m\u001b[0;34m\u001b[0m\u001b[0m\n\u001b[0m",
            "\u001b[0;31mNameError\u001b[0m: name 'model' is not defined"
          ]
        }
      ]
    },
    {
      "cell_type": "markdown",
      "metadata": {
        "id": "V6h-F12q-Epq"
      },
      "source": [
        "Train the model"
      ]
    },
    {
      "cell_type": "code",
      "metadata": {
        "colab": {
          "base_uri": "https://localhost:8080/"
        },
        "id": "79tZwL5T-Wk2",
        "outputId": "66450184-9330-4c52-ba0c-c84c8fb10f84"
      },
      "source": [
        "history = model.fit(celsius_q, fahrenheit_a, epochs=500, verbose=False)\n",
        "print(\"Finished training the model\")"
      ],
      "execution_count": null,
      "outputs": [
        {
          "output_type": "stream",
          "text": [
            "Finished training the model\n"
          ],
          "name": "stdout"
        }
      ]
    },
    {
      "cell_type": "markdown",
      "metadata": {
        "id": "l01168WO-r_y"
      },
      "source": [
        "Display training statistics"
      ]
    },
    {
      "cell_type": "code",
      "metadata": {
        "colab": {
          "base_uri": "https://localhost:8080/",
          "height": 296
        },
        "id": "jIdcmRBY-whb",
        "outputId": "6f4dbb75-cd2b-4db4-8b1f-ca348ef4f58f"
      },
      "source": [
        "import matplotlib.pyplot as plt\n",
        "plt.xlabel('Epoch Number')\n",
        "plt.ylabel('Loss Magnitude')\n",
        "plt.plot(history.history['loss'])"
      ],
      "execution_count": null,
      "outputs": [
        {
          "output_type": "execute_result",
          "data": {
            "text/plain": [
              "[<matplotlib.lines.Line2D at 0x7f75d1d74fd0>]"
            ]
          },
          "metadata": {
            "tags": []
          },
          "execution_count": 49
        },
        {
          "output_type": "display_data",
          "data": {
            "image/png": "[encoded data removed]",
            "text/plain": [
              "<Figure size 432x288 with 1 Axes>"
            ]
          },
          "metadata": {
            "tags": [],
            "needs_background": "light"
          }
        }
      ]
    },
    {
      "cell_type": "markdown",
      "metadata": {
        "id": "uzuPeh-Y_cf2"
      },
      "source": [
        "Use the model to predict values"
      ]
    },
    {
      "cell_type": "code",
      "metadata": {
        "colab": {
          "base_uri": "https://localhost:8080/"
        },
        "id": "GajKYJ9o_lE0",
        "outputId": "02819667-8dcf-4dc7-98dc-aa572f62762e"
      },
      "source": [
        "print(model.predict([100.0]))"
      ],
      "execution_count": null,
      "outputs": [
        {
          "output_type": "stream",
          "text": [
            "WARNING:tensorflow:7 out of the last 12 calls to <function Model.make_predict_function.<locals>.predict_function at 0x7f75d1d482f0> triggered tf.function retracing. Tracing is expensive and the excessive number of tracings could be due to (1) creating @tf.function repeatedly in a loop, (2) passing tensors with different shapes, (3) passing Python objects instead of tensors. For (1), please define your @tf.function outside of the loop. For (2), @tf.function has experimental_relax_shapes=True option that relaxes argument shapes that can avoid unnecessary retracing. For (3), please refer to https://www.tensorflow.org/guide/function#controlling_retracing and https://www.tensorflow.org/api_docs/python/tf/function for  more details.\n",
            "[[119.486626]]\n"
          ],
          "name": "stdout"
        }
      ]
    },
    {
      "cell_type": "markdown",
      "metadata": {
        "id": "qBGtH3yqA2j8"
      },
      "source": [
        "Looking at the layer weights\n"
      ]
    },
    {
      "cell_type": "code",
      "metadata": {
        "colab": {
          "base_uri": "https://localhost:8080/"
        },
        "id": "vizrvYIDA6DG",
        "outputId": "5e4324a1-ecaa-4382-a42a-abe2dc8266b1"
      },
      "source": [
        "print(\"These are the layers variables: {}\".format(l0.get_weights()))\n",
        "                                                "
      ],
      "execution_count": null,
      "outputs": [
        {
          "output_type": "stream",
          "text": [
            "These are the layers variables: [array([[0.835119]], dtype=float32), array([35.974724], dtype=float32)]\n"
          ],
          "name": "stdout"
        }
      ]
    },
    {
      "cell_type": "code",
      "metadata": {
        "colab": {
          "base_uri": "https://localhost:8080/"
        },
        "id": "oorMm8_sBgNw",
        "outputId": "a5be66e1-dfe5-46ed-85b7-c03e39b2b65e"
      },
      "source": [
        "l0 = tf.keras.layers.Dense(units=4, input_shape=[1])\n",
        "l1 = tf.keras.layers.Dense(units=4)\n",
        "l2 = tf.keras.layers.Dense(units=1)\n",
        "model = tf.keras.Sequential([l0, l1, l2])\n",
        "model.compile(loss='mean_squared_error', optimizer=tf.keras.optimizers.Adam(0.1))\n",
        "model.fit(celsius_q, fahrenheit_a, epochs=500, verbose=False)\n",
        "print(\"Finished Training Model\")\n",
        "print(model.predict([100.0]))\n",
        "print(\"Model predicts that 100 degree Celsius is : {} degree Fahrenheit\".format(model.predict([100.0])))\n",
        "print(\"These are l0 variables: {}\".format(l0.get_weights()))\n",
        "print(\"These are l1 variables: {}\".format(l1.get_weights()))\n",
        "print(\"These are l2 variables: {}\".format(l2.get_weights()))"
      ],
      "execution_count": null,
      "outputs": [
        {
          "output_type": "stream",
          "text": [
            "Finished Training Model\n",
            "WARNING:tensorflow:8 out of the last 13 calls to <function Model.make_predict_function.<locals>.predict_function at 0x7f75d1d99c80> triggered tf.function retracing. Tracing is expensive and the excessive number of tracings could be due to (1) creating @tf.function repeatedly in a loop, (2) passing tensors with different shapes, (3) passing Python objects instead of tensors. For (1), please define your @tf.function outside of the loop. For (2), @tf.function has experimental_relax_shapes=True option that relaxes argument shapes that can avoid unnecessary retracing. For (3), please refer to https://www.tensorflow.org/guide/function#controlling_retracing and https://www.tensorflow.org/api_docs/python/tf/function for  more details.\n",
            "[[115.70461]]\n",
            "Model predicts that 100 degree Celsius is : [[115.70461]] degree Fahrenheit\n",
            "These are l0 variables: [array([[ 0.2846717 , -0.05579253,  0.08666909, -0.26056945]],\n",
            "      dtype=float32), array([ 3.2495654,  0.6015745, -3.1605563, -3.2252069], dtype=float32)]\n",
            "These are l1 variables: [array([[-0.04515725,  0.1851875 ,  0.30300277,  1.0859463 ],\n",
            "       [ 0.37636456,  0.45018896, -0.07051241,  0.6100468 ],\n",
            "       [-0.4139054 ,  1.3312982 , -0.90401644, -0.36909232],\n",
            "       [-0.27829802,  0.49544328, -0.25086075, -0.620543  ]],\n",
            "      dtype=float32), array([ 3.1339462, -3.5083714,  3.4946852,  3.5008354], dtype=float32)]\n",
            "These are l2 variables: [array([[ 0.8976477],\n",
            "       [-1.3354009],\n",
            "       [ 1.4143034],\n",
            "       [ 1.476308 ]], dtype=float32), array([3.4328322], dtype=float32)]\n"
          ],
          "name": "stdout"
        }
      ]
    },
    {
      "cell_type": "code",
      "metadata": {
        "id": "jWozt45lCJ7Y"
      },
      "source": [
        ""
      ],
      "execution_count": null,
      "outputs": []
    }
  ]
}